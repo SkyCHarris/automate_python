{
 "cells": [
  {
   "cell_type": "markdown",
   "metadata": {},
   "source": [
    "## Reading and Writing Files\n",
    "\n",
    "Variables are file to store data while program is running. But if you want data to persist after program has finished, need to save it to a file.\n",
    "\n",
    "Think of a file's contents as a single string value, potentially gigabytes in size. Let's learn how to use Python to create, read, and save files on the hard drive."
   ]
  },
  {
   "cell_type": "markdown",
   "metadata": {},
   "source": [
    "### Files and File Paths\n",
    "\n",
    "A file has two key properties: filename (one word) and path. Path specifies the location of a file on the computer.\n",
    "\n",
    "Ex. There's a file on Windows laptop with the filename project.docx in the path C:\\Users\\Al\\Documents\n",
    "\n",
    "The part of the filename after the last period is called the file's <i>extension</i> and tells you a file's type. The filename project.docx is a Word document. <i>Users, Al, Documents</i> all refer to folders (aka directories). FOlders contain files and other folders.\n",
    "\n",
    "The C:\\ part of the path is the root folder, containing all other folders. On Windows it's called C: (or D:), or the C: Drive. On macOS and Linux it's /.\n",
    "\n",
    "Additional volumes like USB drives will appear differently on different operating systems. On Windows they appear as new, lettered root drives like D:\\ or E:\\. On macOS they appear as new folders under the \\Volumes folder."
   ]
  },
  {
   "cell_type": "markdown",
   "metadata": {},
   "source": [
    "### Backslash on Windows and Forward Slash on macOS/Linux\n",
    "\n",
    "Paths are written using backlsalshes \\ between folder names (on Windows). macOS/Linux use the forward slash /. For programs to work on all operating systems, need to write Python scripts to handle both cases.\n",
    "\n",
    "This is simple to do with the Path() function in the pathlib module.\n",
    "Passing it the string values of individual file and folder names in your path, Path() will return a string with a file path using the correct path separators."
   ]
  },
  {
   "cell_type": "code",
   "execution_count": 4,
   "metadata": {},
   "outputs": [
    {
     "data": {
      "text/plain": [
       "WindowsPath('spam/bacon/eggs')"
      ]
     },
     "execution_count": 4,
     "metadata": {},
     "output_type": "execute_result"
    }
   ],
   "source": [
    "from pathlib import Path\n",
    "Path('spam', 'bacon', 'eggs')\n"
   ]
  },
  {
   "cell_type": "code",
   "execution_count": 5,
   "metadata": {},
   "outputs": [
    {
     "data": {
      "text/plain": [
       "'spam\\\\bacon\\\\eggs'"
      ]
     },
     "execution_count": 5,
     "metadata": {},
     "output_type": "execute_result"
    }
   ],
   "source": [
    "str(Path('spam', 'bacon', 'eggs'))\n"
   ]
  },
  {
   "cell_type": "markdown",
   "metadata": {},
   "source": [
    "The convention for importing pathlib is: from pathlib import Path. Otherwise we'd have to enter pathlib.Path everywhere Path shows up in our code.\n",
    "\n",
    "Path('spam', 'bacon', 'eggs') returned a WindowsPath object for the joined path since we're running this on Windows, represented at WindowsPath('spam/bacon/eggs'). Even though Windows uses backslshes, the WindowsPath representation displays them using forward slashes, since open source software devs historically favor Linux.\n",
    "\n",
    "If you want to get a s imple text string of this path, pass it to the str() function, which returns 'spam\\\\bacon\\\\eggs'. The backslashes are doubled because each backslash needs to be escaped.\n",
    "\n",
    "If called on Linux, Path() would have returned a PosixPath object, that when passed to str() would have returned 'spam/bacon/eggs'. POSIX is a set of standards for Unix-like operating systems like Linux.\n",
    "\n",
    "These Path objects (WindowsPath or PosixPath objects) will be passed to several file-related functions in this chapter. This code joins names from a list of filenames to the end of a folder's name:"
   ]
  },
  {
   "cell_type": "code",
   "execution_count": 2,
   "metadata": {},
   "outputs": [],
   "source": [
    "from pathlib import Path"
   ]
  },
  {
   "cell_type": "code",
   "execution_count": 1,
   "metadata": {},
   "outputs": [
    {
     "name": "stdout",
     "output_type": "stream",
     "text": [
      "C:\\Users\\Al\\accounts.txt\n",
      "C:\\Users\\Al\\details.csv\n",
      "C:\\Users\\Al\\invite.docx\n"
     ]
    }
   ],
   "source": [
    "from pathlib import Path\n",
    "\n",
    "myFiles = ['accounts.txt', 'details.csv', 'invite.docx']\n",
    "for filename in myFiles:\n",
    "    print(Path(r'C:\\Users\\Al', filename))"
   ]
  },
  {
   "cell_type": "markdown",
   "metadata": {},
   "source": [
    "On Windows the backslash separates directories so you can't use it in file names. But you can use backslashes in filenames on mac/linux. So while Path(r'spam\\eggs') refers to 2 separate folders (or a file eggs in a folder spam) on Windows, the same command would refer to a single folder (or file) named spam\\eggs on mac/linux. So it's usually a good idea to always use forward slashes in your Python code. The pathlib module ensures it always works on all operating systems.\n",
    "\n",
    "pathlib was introduced in Python 3.4 to replace older os.path functions. The Python Standard Library modules support it as of Python 3.6."
   ]
  }
 ],
 "metadata": {
  "kernelspec": {
   "display_name": "base",
   "language": "python",
   "name": "python3"
  },
  "language_info": {
   "codemirror_mode": {
    "name": "ipython",
    "version": 3
   },
   "file_extension": ".py",
   "mimetype": "text/x-python",
   "name": "python",
   "nbconvert_exporter": "python",
   "pygments_lexer": "ipython3",
   "version": "3.12.1"
  }
 },
 "nbformat": 4,
 "nbformat_minor": 2
}
