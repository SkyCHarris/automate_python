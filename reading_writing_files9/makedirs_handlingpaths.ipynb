{
 "cells": [
  {
   "cell_type": "markdown",
   "metadata": {},
   "source": [
    "### Creating New Folders Using the os.makedirs() Function\n"
   ]
  },
  {
   "cell_type": "code",
   "execution_count": 1,
   "metadata": {},
   "outputs": [],
   "source": [
    "import os\n",
    "os.makedirs('C:\\\\delicious\\\\walnut\\\\waffles')"
   ]
  },
  {
   "cell_type": "markdown",
   "metadata": {},
   "source": [
    "This creates the <i>delicious</i> folder, a <i>walnut</i> folder inside, and a <i>waffles</i> folder inside of that. os.makedirs() creates intermediate folders to ensure the full path exists.\n",
    "\n",
    "To make a directory from a Path object, call mkdir() method."
   ]
  },
  {
   "cell_type": "code",
   "execution_count": 2,
   "metadata": {},
   "outputs": [],
   "source": [
    "from pathlib import Path\n",
    "Path(r'C:\\Users\\slakk\\spam').mkdir()"
   ]
  },
  {
   "cell_type": "markdown",
   "metadata": {},
   "source": [
    "mkdir() can only make one directory at a time, it won't make several subdirectories like os.makedirs()"
   ]
  },
  {
   "cell_type": "markdown",
   "metadata": {},
   "source": [
    "### Handling Absolute and Relative Paths"
   ]
  },
  {
   "cell_type": "markdown",
   "metadata": {},
   "source": [
    "pathlib module provides methods for checking whether given path is absolute path, and returning absolute path of a relative path.\n",
    "\n",
    "is_absolute method on Path object returns True if absolute path and False if relative path"
   ]
  },
  {
   "cell_type": "code",
   "execution_count": 7,
   "metadata": {},
   "outputs": [
    {
     "data": {
      "text/plain": [
       "False"
      ]
     },
     "execution_count": 7,
     "metadata": {},
     "output_type": "execute_result"
    }
   ],
   "source": [
    "Path.cwd()\n",
    "Path.cwd().is_absolute()\n",
    "Path('spam/bacon/eggs').is_absolute()"
   ]
  },
  {
   "cell_type": "markdown",
   "metadata": {},
   "source": [
    "To get absolute path from relative path, put Path.cwd() / in front of the relative Path object. When we say 'relative path' we mean a path that is relative to the cwd."
   ]
  },
  {
   "cell_type": "code",
   "execution_count": 9,
   "metadata": {},
   "outputs": [
    {
     "data": {
      "text/plain": [
       "WindowsPath('c:/Users/slakk/OneDrive/Desktop/automate_python/reading_writing_files9/my/relative/path')"
      ]
     },
     "execution_count": 9,
     "metadata": {},
     "output_type": "execute_result"
    }
   ],
   "source": [
    "Path('my/relative/path')\n",
    "Path.cwd() / Path('my/relative/path')"
   ]
  },
  {
   "cell_type": "markdown",
   "metadata": {},
   "source": [
    "The os.path module also has some useful functions related to absolute and relative paths:\n",
    "\n",
    "- Calling os.path.abspath(path) returns a string of the absolute path of the argument. Easy way to convert a relative path into an absolute one\n",
    "- Calling os.path.isabs(path) will return True if the argument is an absolute path and False if it is a relative path\n",
    "- Calling os.path.relpath(path, start) returns string of relative path from start path to path. If start isn't provided, the cwd is used as the start path"
   ]
  },
  {
   "cell_type": "code",
   "execution_count": 14,
   "metadata": {},
   "outputs": [
    {
     "data": {
      "text/plain": [
       "True"
      ]
     },
     "execution_count": 14,
     "metadata": {},
     "output_type": "execute_result"
    }
   ],
   "source": [
    "os.path.abspath('.')\n",
    "os.path.abspath('.\\\\Scripts')\n",
    "os.path.isabs('.')\n",
    "os.path.isabs(os.path.abspath('.'))"
   ]
  },
  {
   "cell_type": "markdown",
   "metadata": {},
   "source": [
    "Single dot folder represents the absolute path"
   ]
  },
  {
   "cell_type": "code",
   "execution_count": 16,
   "metadata": {},
   "outputs": [
    {
     "data": {
      "text/plain": [
       "'..\\\\..\\\\Windows'"
      ]
     },
     "execution_count": 16,
     "metadata": {},
     "output_type": "execute_result"
    }
   ],
   "source": [
    "os.path.relpath('C:\\\\Windows', 'C:\\\\')\n",
    "os.path.relpath('C:\\\\Windows', 'C:\\\\spam\\\\eggs')"
   ]
  },
  {
   "cell_type": "markdown",
   "metadata": {},
   "source": [
    "When relative path si within the same parent folder as the path, but within subfolders of a different path, use .. notation to return to the parent folder."
   ]
  }
 ],
 "metadata": {
  "kernelspec": {
   "display_name": "Python 3",
   "language": "python",
   "name": "python3"
  },
  "language_info": {
   "codemirror_mode": {
    "name": "ipython",
    "version": 3
   },
   "file_extension": ".py",
   "mimetype": "text/x-python",
   "name": "python",
   "nbconvert_exporter": "python",
   "pygments_lexer": "ipython3",
   "version": "3.12.1"
  }
 },
 "nbformat": 4,
 "nbformat_minor": 2
}
