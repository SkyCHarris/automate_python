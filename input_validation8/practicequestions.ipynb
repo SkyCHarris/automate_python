{
 "cells": [
  {
   "cell_type": "markdown",
   "metadata": {},
   "source": [
    "### Practice Questions"
   ]
  },
  {
   "cell_type": "code",
   "execution_count": 1,
   "metadata": {},
   "outputs": [],
   "source": [
    "# 1. Does PyInputPlus come with the Python Standard Library?\n",
    "\n",
    "# No. It's a third-party module that needs to be installed"
   ]
  },
  {
   "cell_type": "code",
   "execution_count": null,
   "metadata": {},
   "outputs": [],
   "source": [
    "# 2. Why is PyInputPlus commonly imported with import pyinputplus as pyip?\n",
    "\n",
    "# Because the pyip abbreviation is both indicative of the full module name, but also quicker and easier to write in your code"
   ]
  },
  {
   "cell_type": "code",
   "execution_count": null,
   "metadata": {},
   "outputs": [],
   "source": [
    "# 3. What is the difference between inputInt() and inputFloat()?\n",
    "\n",
    "# inputInt() accepts digits, while inputFloat() accepts floats/decimals\n",
    "# Actual: They RETURN, not ACCEPT these values"
   ]
  },
  {
   "cell_type": "code",
   "execution_count": null,
   "metadata": {},
   "outputs": [],
   "source": [
    "# 4. How can you ensure that the user enters a whole number between 0 and 99 using PyInputPlus?\n",
    "\n",
    "# pyip.inputInt(0, 99)\n",
    "# Actual: pyip.inputint(min=0, max=99)"
   ]
  },
  {
   "cell_type": "code",
   "execution_count": null,
   "metadata": {},
   "outputs": [],
   "source": [
    "# 5. What is passed to the allowRegexes and blockRegexes keyword arguments?\n",
    "\n",
    "# Regex strings that are explicity allowed or denied"
   ]
  }
 ],
 "metadata": {
  "kernelspec": {
   "display_name": "base",
   "language": "python",
   "name": "python3"
  },
  "language_info": {
   "codemirror_mode": {
    "name": "ipython",
    "version": 3
   },
   "file_extension": ".py",
   "mimetype": "text/x-python",
   "name": "python",
   "nbconvert_exporter": "python",
   "pygments_lexer": "ipython3",
   "version": "3.11.4"
  }
 },
 "nbformat": 4,
 "nbformat_minor": 2
}
