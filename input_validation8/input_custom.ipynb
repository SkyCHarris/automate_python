{
 "cells": [
  {
   "cell_type": "markdown",
   "metadata": {},
   "source": [
    "### Passing a Custom Validation Function to inputCustom()\n",
    "\n",
    "You can write a function to perform your own custom validation logic by passing inputCustom() function. Say you want th euser to enter a series of digits that adds up to 10. There's no pyinputplus.inputAddsUpToTen() function, but you can create a function that:\n",
    "\n",
    "- Accepts a single string argument of what the user entered\n",
    "- Raises an exception if the string fails validation\n",
    "- Returns None (or has no return statement) if inputCustom() should return the string unchanged\n",
    "- Returns a non-None value if inputCustom() should return a different string from the one the user entered\n",
    "- Is passed as the first argument to inputCustom()\n",
    "\n",
    "Ex. We can create our own addsUpToTen() function, then pass it to inputCustom(). Note that the function call looks like <b>inputCustom(addsUpToTen)</b> and not <b>inputCustom(addsUpToTen())</b> because we are passing the <b>addsUpToTen()</b> function itself to <b>inputCustom()</b>, not calling <b>addsUpToTen()</b> and passing its return value."
   ]
  },
  {
   "cell_type": "code",
   "execution_count": 3,
   "metadata": {},
   "outputs": [
    {
     "name": "stdout",
     "output_type": "stream",
     "text": [
      "The digits must add up to 10, not 6.\n"
     ]
    },
    {
     "data": {
      "text/plain": [
       "55"
      ]
     },
     "execution_count": 3,
     "metadata": {},
     "output_type": "execute_result"
    }
   ],
   "source": [
    "import pyinputplus as pyip\n",
    "def addsUpToTen(numbers):\n",
    "    numbersList = list(numbers)\n",
    "    for i, digit in enumerate(numbersList):\n",
    "        numbersList[i] = int(digit)\n",
    "    if sum(numbersList) != 10:\n",
    "        raise Exception('The digits must add up to 10, not %s.' %(sum(numbersList)))\n",
    "    return int(numbers) # Return an int form of numbers\n",
    "\n",
    "response = pyip.inputCustom(addsUpToTen)    # No parentheses after addsUpToTen here.\n",
    "response"
   ]
  },
  {
   "cell_type": "markdown",
   "metadata": {},
   "source": [
    "The inputCustom() function also supports the generaly PyInputPlus features, such as blank, limit, timeout, default, allowRegexes, blockRegexes keyword arguments.\n",
    "\n",
    "Writing your own custom validation function is useful when it's otherwise difficult or impossible to write a regex for valid input, as in the \"adds up to 10\" example."
   ]
  }
 ],
 "metadata": {
  "kernelspec": {
   "display_name": "base",
   "language": "python",
   "name": "python3"
  },
  "language_info": {
   "codemirror_mode": {
    "name": "ipython",
    "version": 3
   },
   "file_extension": ".py",
   "mimetype": "text/x-python",
   "name": "python",
   "nbconvert_exporter": "python",
   "pygments_lexer": "ipython3",
   "version": "3.11.4"
  }
 },
 "nbformat": 4,
 "nbformat_minor": 2
}
