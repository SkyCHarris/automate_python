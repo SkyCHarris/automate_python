{
 "cells": [
  {
   "cell_type": "markdown",
   "metadata": {},
   "source": [
    "### Project: Multiplication Quiz\n",
    "\n",
    "PyInputPlus's features can be useful for creating a timed multiplication quiz. By setting the allowRegexes, blockRegexes, timeout, and limit keyword argument to pyip.inputStr() you can leave most of the implementation to the module. The less code we need to write, the faster we can write our programs.\n",
    "\n",
    "Let's create a program that poses 10 multiplication problems to the user, where the valid input is the problem's correct answer.\n",
    "\n",
    "1. Import pyinputplus, random, time modules\n",
    "2. Keep traack of how many questions the program asks w/ numberOfQuestions variable\n",
    "3. Keep track of how many correct answers the user gives with correctAnswers variable\n",
    "4. for loop will repeatedly pose a random multiplication problem 10 times"
   ]
  },
  {
   "cell_type": "code",
   "execution_count": null,
   "metadata": {},
   "outputs": [],
   "source": [
    "import pyinputplus as pyip\n",
    "import random, time\n",
    "\n",
    "numberOfQuestions = 10\n",
    "correctAnswers = 0\n",
    "for questionNumber in range(numberOfQuestions):"
   ]
  },
  {
   "cell_type": "markdown",
   "metadata": {},
   "source": [
    "Inside the for loop, the program will pick two single-digit numbers to multiply. We'll use these numbers to create a #Q: N x N = prompt for the uswer, where Q is the question number (1 to 10) and N are the two numbers to multiply."
   ]
  },
  {
   "cell_type": "code",
   "execution_count": null,
   "metadata": {},
   "outputs": [],
   "source": [
    "# Pick two random numbers:\n",
    "num1 = random.randint(0,9)\n",
    "num2 = random.randint(0,9)\n",
    "\n",
    "prompt = '#%s: %s x %s = ' % (questionNumber, num1, num2)"
   ]
  },
  {
   "cell_type": "markdown",
   "metadata": {},
   "source": [
    "The pyip.inputStr() function handles most of the features of this quiz program. The argument we pass for allowRegexes is a list with the regex string '^%s$', where %s is replaced with the correct answer. The ^ and $ characters ensure that the answer begins and ends with the correct number, though PyInputPlus trims any whitespace from the start and end of the user's response first just in case they pressed spacebar before/after their answer.\n",
    "\n",
    "The argument we pass for blocklistRegexes is a list with ('.*', 'Incorrect!'). The first string in the tuple is a regex that matches every possible string. So if the user response doesn't match the correct answer, the program will reject any other answer they provide. So the 'Incorrect!' string is displayed and the user is prompted to answer again.\n",
    "\n",
    "Additionally, passing 8 for timeout and 3 for limit will ensure that the user only has 8 seconds and 3 tries to provide a correct answer:"
   ]
  },
  {
   "cell_type": "code",
   "execution_count": null,
   "metadata": {},
   "outputs": [],
   "source": [
    "try:\n",
    "    # Right answers handled by allowRegexes.\n",
    "    # Wrong answers handled by blockRegexes, with a custom message\n",
    "    pyinputplus.inputStr(prompt, allowRegexes=['^%s$' % (num1 * num2)],\n",
    "                         blockRegexes=[('.*', 'Incorrect!')],\n",
    "                         timeout=8, limit=3)"
   ]
  },
  {
   "cell_type": "markdown",
   "metadata": {},
   "source": [
    "If the user answers after the 8-sec timeout expires, pyip.inputStr() raises a TimeoutException. If user answers incorrectly more than 3 times, it raises a RetryLimitException. Both exception types are in PyInputPlus module, so prepend with pyip."
   ]
  },
  {
   "cell_type": "code",
   "execution_count": null,
   "metadata": {},
   "outputs": [],
   "source": [
    "    except pyip.TimeoutException:\n",
    "        print('Out of time!')\n",
    "    except pyip.RetryLimitException:\n",
    "        print('Out of tries!')"
   ]
  },
  {
   "cell_type": "markdown",
   "metadata": {},
   "source": [
    "Remember, just like how else blocks can follow an if or elif block, they can optionally follow the last except block. The code inside the following else block will run if no exception was raised in the try block. In our case that means the code runs if the user entered the correct answer:"
   ]
  },
  {
   "cell_type": "code",
   "execution_count": null,
   "metadata": {},
   "outputs": [],
   "source": [
    "    else:\n",
    "        # This block runs if no exceptions were raised in the try block\n",
    "        print('Correct!')\n",
    "        correctAnswers += 1"
   ]
  },
  {
   "cell_type": "markdown",
   "metadata": {},
   "source": [
    "No matter which of the 3 messages, \"Out of time!\", \"Out of tries!\", or \"Correct!\" displays, let's place a 1-second pause at the end of the for loop to give the user time to read it. After the program has asked 10 questions and the for loop continues, let's show the user how many correct answers they made:"
   ]
  },
  {
   "cell_type": "code",
   "execution_count": null,
   "metadata": {},
   "outputs": [],
   "source": [
    "    time.sleep(1)   # Brief pause to let user see result\n",
    "print('Score: %s / %s' % (correctAnswers, numberOfQuestions))"
   ]
  },
  {
   "cell_type": "code",
   "execution_count": 1,
   "metadata": {},
   "outputs": [
    {
     "name": "stdout",
     "output_type": "stream",
     "text": [
      "#0: 6 x 8 = Incorrect!\n",
      "#0: 6 x 8 = Incorrect!\n",
      "#0: 6 x 8 = Out of time!\n",
      "#1: 5 x 2 = Correct!\n",
      "#2: 6 x 5 = Incorrect!\n",
      "#2: 6 x 5 = Out of time!\n",
      "#3: 2 x 3 = Correct!\n",
      "#4: 3 x 2 = Correct!\n",
      "#5: 9 x 4 = Correct!\n",
      "#6: 6 x 8 = Correct!\n",
      "#7: 0 x 8 = Correct!\n",
      "#8: 8 x 9 = Correct!\n",
      "#9: 5 x 7 = Correct!\n",
      "Score: 8 / 10\n"
     ]
    }
   ],
   "source": [
    "import pyinputplus as pyip\n",
    "import random, time\n",
    "\n",
    "numberOfQuestions = 10\n",
    "correctAnswers = 0\n",
    "for questionNumber in range(numberOfQuestions):\n",
    "    # Pick two random numbers:\n",
    "    num1 = random.randint(0,9)\n",
    "    num2 = random.randint(0,9)\n",
    "\n",
    "    prompt = '#%s: %s x %s = ' % (questionNumber, num1, num2)\n",
    "\n",
    "    try:\n",
    "    # Right answers handled by allowRegexes.\n",
    "    # Wrong answers handled by blockRegexes, with a custom message\n",
    "        pyip.inputStr(prompt, allowRegexes=['^%s$' % (num1 * num2)],\n",
    "                        blockRegexes=[('.*', 'Incorrect!')],\n",
    "                        timeout=8, limit=3)\n",
    "    except pyip.TimeoutException:\n",
    "        print('Out of time!')\n",
    "    except pyip.RetryLimitException:\n",
    "        print('Out of tries!')\n",
    "\n",
    "    else:\n",
    "    # This block runs if no exceptions were raised in the try block\n",
    "        print('Correct!')\n",
    "        correctAnswers += 1\n",
    "\n",
    "    time.sleep(1)   # Brief pause to let user see result\n",
    "print('Score: %s / %s' % (correctAnswers, numberOfQuestions))"
   ]
  }
 ],
 "metadata": {
  "kernelspec": {
   "display_name": "base",
   "language": "python",
   "name": "python3"
  },
  "language_info": {
   "codemirror_mode": {
    "name": "ipython",
    "version": 3
   },
   "file_extension": ".py",
   "mimetype": "text/x-python",
   "name": "python",
   "nbconvert_exporter": "python",
   "pygments_lexer": "ipython3",
   "version": "3.11.4"
  }
 },
 "nbformat": 4,
 "nbformat_minor": 2
}
