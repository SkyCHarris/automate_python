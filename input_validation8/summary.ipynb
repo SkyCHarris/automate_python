{
 "cells": [
  {
   "cell_type": "markdown",
   "metadata": {},
   "source": [
    "### Summary\n",
    "\n",
    "It's easy to forget to write input validation code, but without it your programs will probably have bugs.\n",
    "\n",
    "The values you expect users to enter and the values they actually enter can be completely different, and programs need to be robust enough to handle these exceptional cases.\n",
    "\n",
    "You can use regexes to create your own input validation code, but for common cases it's easier to use an existing module like PyInputPlus.\n",
    "\n",
    "You can import the module with import pyinputplus as pyip in order to abbreviate with a shorter name when calling the module's functions.\n",
    "\n",
    "PyInputPlus has functions for entering a variety of input, including strings, numbers, dates, yes/no, True/False, emails, and files.\n",
    "\n",
    "input() always returns a string, but its other forms return the value in an appropriate data type. The inputChoice() function allows you to select one of several pre-selected options, while inputMenu() also adds numbers or letters for quick selection.\n",
    "\n",
    "All of these functions have the following standard features:\n",
    "- Stripping whitespace from the sides\n",
    "- Setting timeout and retry limits with the timeout and limit keyword arguments\n",
    "- Passing lists of regex strings to allowRegexes or blockRegexes to include or exclude particular responses\n",
    "\n",
    "We'll no longer need to write our own tedious while loops that check valid input and reprompt the users.\n",
    "\n",
    "If none of the PyInputPlus module's functions fit your needs, but you'd still like the other features it provides, call inputCustom() and pass your own custom validaiton function for PyInputPlus to use."
   ]
  }
 ],
 "metadata": {
  "language_info": {
   "name": "python"
  }
 },
 "nbformat": 4,
 "nbformat_minor": 2
}
