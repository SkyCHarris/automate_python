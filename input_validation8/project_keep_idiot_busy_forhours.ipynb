{
 "cells": [
  {
   "cell_type": "markdown",
   "metadata": {},
   "source": [
    "## Project: How to Keep an Idiot Busy for Hours\n",
    "\n",
    "Let's ask PyInputPlus to create a simple program that:\n",
    "\n",
    "1. Asks the user if they'd like to know how to keep an idiot busy for hours\n",
    "2. If the user answer no, quit\n",
    "3. If the user answers yes, go to Step 1\n",
    "\n",
    "Of course we dont' know if the user will enter something besides \"yes\" or \"no so we need to perform input validation. Also, it would be convenient for the user to be able to enter \"y\" or \"n\" instead of the full words.\n",
    "\n",
    "PyInputPlus's inputYesNo() function will handle this for us and no matter what case the user enters, return a lowercase 'yes' or 'no' string value."
   ]
  },
  {
   "cell_type": "code",
   "execution_count": 1,
   "metadata": {},
   "outputs": [
    {
     "name": "stdout",
     "output_type": "stream",
     "text": [
      "Want to know how to keep an idiot busy for hours?\n",
      "Want to know how to keep an idiot busy for hours?\n",
      "Want to know how to keep an idiot busy for hours?\n",
      "'yesss' is not a valid yes/no response.\n",
      "Want to know how to keep an idiot busy for hours?\n",
      "'no?' is not a valid yes/no response.\n",
      "Want to know how to keep an idiot busy for hours?\n",
      "Thank you. Have a nice day.\n"
     ]
    }
   ],
   "source": [
    "import pyinputplus as pyip\n",
    "# Imports the PyInputPlus module\n",
    "while True:\n",
    "    prompt = 'Want to know how to keep an idiot busy for hours?\\n'\n",
    "    response = pyip.inputYesNo(prompt)\n",
    "# while True: creates and infinite loop that continues to run until it encounters a break statement.\n",
    "# We call pyip.inputYesNo() to ensure that this function call won't return until the user enters a valid answer\n",
    "    if response == 'no':\n",
    "        break\n",
    "# pyip.inputYesNo() call only teturns either the string yes or the string no. If no, our program breaks out of the infinite loop\n",
    "# and continues to the last line, thanking the user\n",
    "print('Thank you. Have a nice day.')\n",
    "# Otherwise the loop iterates once again\n",
    "# You can make use of the inputYesNo() function in non-English languages by passing yesVal and noVal keyword arguments\n"
   ]
  },
  {
   "cell_type": "markdown",
   "metadata": {},
   "source": []
  }
 ],
 "metadata": {
  "kernelspec": {
   "display_name": "base",
   "language": "python",
   "name": "python3"
  },
  "language_info": {
   "codemirror_mode": {
    "name": "ipython",
    "version": 3
   },
   "file_extension": ".py",
   "mimetype": "text/x-python",
   "name": "python",
   "nbconvert_exporter": "python",
   "pygments_lexer": "ipython3",
   "version": "3.11.4"
  }
 },
 "nbformat": 4,
 "nbformat_minor": 2
}
